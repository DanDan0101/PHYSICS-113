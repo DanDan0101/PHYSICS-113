{
 "cells": [
  {
   "attachments": {},
   "cell_type": "markdown",
   "metadata": {},
   "source": [
    "# Exercises\n",
    "\n",
    "## Monte Carlo Integration of a 5 dimensional function\n",
    "\n",
    "Let's take this function, \n",
    "$$ \n",
    "F(\\vec{x}) = \\left[ (\\vec{a}\\cdot (\\vec{x}-\\vec{b})\\right]^{3}\n",
    "$$\n",
    "with \n",
    "$\\vec{a}=(1,2,3,4,5)^T$ \n",
    "and \n",
    "$\\vec{b}= (\\frac{1}{2},\\frac{1}{2},\\frac{1}{2},\\frac{1}{2},\\frac{1}{2})^T$,\n",
    "and integrate over the unit interval.\n",
    "\n",
    "$$ \n",
    "A = \\int_{(0,0,0,0,0)}^{(1,1,1,1,1)} F(\\vec{x}) dV\n",
    "$$\n",
    "\n",
    "Calculate $A$ using Monte Carlo Integration and give an error estimate. \n",
    "Submit the code you used to do it. \n",
    "\n",
    "**Bonus:** Use the `scipy.nquad` function to also calculate this integral."
   ]
  },
  {
   "cell_type": "code",
   "execution_count": 1,
   "metadata": {},
   "outputs": [],
   "source": [
    "import numpy as np\n",
    "from scipy.integrate import nquad"
   ]
  },
  {
   "cell_type": "code",
   "execution_count": 23,
   "metadata": {},
   "outputs": [],
   "source": [
    "def f(x1, x2, x3, x4, x5):\n",
    "    return (x1 + 2*x2 + 3*x3 + 4*x4 + 5*x5 - 15/2) ** 3\n",
    "def montecarlo(func, N):\n",
    "    x = np.random.rand(N, 5)\n",
    "    return np.mean(func(*x.T))"
   ]
  },
  {
   "cell_type": "code",
   "execution_count": 32,
   "metadata": {},
   "outputs": [],
   "source": [
    "area = nquad(f, [[0,1],[0,1],[0,1],[0,1],[0,1]])"
   ]
  },
  {
   "cell_type": "code",
   "execution_count": 31,
   "metadata": {},
   "outputs": [
    {
     "data": {
      "text/plain": [
       "0.05328105874742328"
      ]
     },
     "execution_count": 31,
     "metadata": {},
     "output_type": "execute_result"
    }
   ],
   "source": [
    "montecarlo(f, 1000000)"
   ]
  },
  {
   "cell_type": "code",
   "execution_count": 34,
   "metadata": {},
   "outputs": [
    {
     "data": {
      "text/plain": [
       "(7.294527544232227e-16, 3.778011235794577e-12)"
      ]
     },
     "execution_count": 34,
     "metadata": {},
     "output_type": "execute_result"
    }
   ],
   "source": [
    "area"
   ]
  },
  {
   "attachments": {},
   "cell_type": "markdown",
   "metadata": {},
   "source": [
    "## Use `scipy` routines to integrate a function\n",
    "\n",
    "Let's approximate the integral\n",
    "$$ \\int_0^1 \\sqrt{x^5+e^{5x}} \\mathrm{d}x$$\n",
    "for various $N$. As we increase N, the values for the trapezoidal rule converge. \n",
    "\n",
    "Look up the four `scipy` functions below\n",
    "```python\n",
    "from scipy.integrate import trapz \n",
    "from scipy.integrate import cumtrapz \n",
    "from scipy.integrate import simps\n",
    "from scipy.integrate import quad\n",
    "```\n",
    "and employ each to solve the integral above. \n",
    "Please submit the code and write a paragraph about what you learned about when to use which routine. "
   ]
  },
  {
   "cell_type": "code",
   "execution_count": 35,
   "metadata": {},
   "outputs": [],
   "source": [
    "from scipy.integrate import trapz \n",
    "from scipy.integrate import cumtrapz \n",
    "from scipy.integrate import simps\n",
    "from scipy.integrate import quad"
   ]
  },
  {
   "cell_type": "code",
   "execution_count": 36,
   "metadata": {},
   "outputs": [],
   "source": [
    "def g(x):\n",
    "    return np.sqrt(x**5 + np.exp(5*x))"
   ]
  },
  {
   "cell_type": "code",
   "execution_count": 49,
   "metadata": {},
   "outputs": [],
   "source": [
    "N = 9\n",
    "x = np.linspace(0, 1, N)\n",
    "t = trapz(g(x), x)\n",
    "c = cumtrapz(g(x), x)[-1]\n",
    "s = simps(g(x), x)\n",
    "q = quad(g, 0, 1)[0]"
   ]
  },
  {
   "cell_type": "code",
   "execution_count": 50,
   "metadata": {},
   "outputs": [
    {
     "name": "stdout",
     "output_type": "stream",
     "text": [
      "Trapezoidal:  4.519785696962714\n",
      "Cumulative Trapezoidal:  4.519785696962714\n",
      "Simpson:  4.483543634855771\n",
      "Quad:  4.48330992361351\n"
     ]
    }
   ],
   "source": [
    "print(\"Trapezoidal: \", t)\n",
    "print(\"Cumulative Trapezoidal: \", c)\n",
    "print(\"Simpson: \", s)\n",
    "print(\"Quad: \", q)"
   ]
  }
 ],
 "metadata": {
  "kernelspec": {
   "display_name": "stats",
   "language": "python",
   "name": "python3"
  },
  "language_info": {
   "codemirror_mode": {
    "name": "ipython",
    "version": 3
   },
   "file_extension": ".py",
   "mimetype": "text/x-python",
   "name": "python",
   "nbconvert_exporter": "python",
   "pygments_lexer": "ipython3",
   "version": "3.10.8"
  },
  "orig_nbformat": 4
 },
 "nbformat": 4,
 "nbformat_minor": 2
}
