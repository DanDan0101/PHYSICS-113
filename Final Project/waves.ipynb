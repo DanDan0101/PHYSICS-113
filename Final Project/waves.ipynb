{
 "cells": [
  {
   "attachments": {},
   "cell_type": "markdown",
   "metadata": {},
   "source": [
    "# Modelling the Timbre of a Piano String\n",
    "Final project for Physics 113 (Stanford University, Computational Physics, Spring 2023, Prof. Tom Abel), by [Alice Ku](mailto:aliceku@stanford.edu) and [Daniel Sun](mailto:dansun@stanford.edu).\n",
    "\n",
    "[Repository](https://github.com/DanDan0101/PHYSICS-113/tree/main/Final%20Project)"
   ]
  },
  {
   "cell_type": "code",
   "execution_count": 9,
   "metadata": {},
   "outputs": [],
   "source": [
    "import numpy as np\n",
    "from matplotlib import pyplot as plt\n",
    "import scipy\n",
    "from tqdm import tqdm"
   ]
  },
  {
   "cell_type": "code",
   "execution_count": 10,
   "metadata": {},
   "outputs": [],
   "source": [
    "SAMPLERATE = 44100 #\n",
    "SCALE = np.iinfo(np.int16).max\n",
    "\n",
    "def export(data, filename):\n",
    "    # Normalize data\n",
    "    data_norm = data / np.max(np.abs(data)) * SCALE\n",
    "    scipy.io.wavfile.write(filename + \".wav\", SAMPLERATE, data_norm.astype(np.int16))"
   ]
  },
  {
   "attachments": {},
   "cell_type": "markdown",
   "metadata": {},
   "source": [
    "## Wave Equation\n",
    "Consider a string of length $L$, pinned at both ends, with linear density $\\mu$, wave speed $c=\\sqrt{\\frac{T}{\\mu}}$, cross-sectional area $S$, Young's modulus $E$, and radius of gyration $K=\\frac{R}{2}$. Unlike an ideal string, a real string has a resistance against bending, which introduces a fourth-order term into the wave equation:\n",
    "$$\\frac{\\partial^2u}{\\partial t^2}=c^2\\frac{\\partial^2u}{\\partial x^2}-\\frac{ESK^2}{\\rho}\\frac{\\partial^4u}{\\partial x^4}$$\n",
    "$S$ is the cross-sectional area of the string, $E$ is the Young's modulus of its material, $\\rho$ is its linear density, and $K$ is the radius of gyration, which is $K=\\frac{R}{2}$ for a cylindrical shape of radius $R$. The boundary conditions are:\n",
    "$$u(0,t)=u(L,t)=0=\\frac{\\partial^2u}{\\partial x^2}(0,t)=\\frac{\\partial^2u}{\\partial x^2}(L,t)$$\n",
    "Define the following constants:\n",
    "$$B=\\pi^2\\frac{ESK^2}{TL^2}=\\frac{\\pi^3}{4}\\frac{ER^4}{TL^2}\\sim10^{-3}$$\n",
    "$$\\omega_0=\\frac{\\pi c}{L}\\sqrt{1+B}$$\n",
    "Then, the solution has frequencies:\n",
    "$$\\omega_n=n\\omega_0\\sqrt{\\frac{1+Bn^2}{1+B}}$$\n",
    "The solution is then:\n",
    "$$u(x,t)=\\sum_{n=1}^\\infty\\left[a_n\\cos(\\omega_n t)+b_n\\sin(\\omega_n t)\\right]\\sin\\left(\\frac{n\\pi}{L}x\\right)$$"
   ]
  },
  {
   "cell_type": "code",
   "execution_count": 11,
   "metadata": {},
   "outputs": [],
   "source": [
    "def omega_n(n, f_0, B = 0.001):\n",
    "    return 2 * np.pi * n * f_0 * np.sqrt(1 + B * n**2) / np.sqrt(1 + B)"
   ]
  },
  {
   "attachments": {},
   "cell_type": "markdown",
   "metadata": {},
   "source": [
    "### Initial Condition\n",
    "We treat a hammered string as an instantaneous impulse at some location $x_0\\in(0,L)$ on a flat string that gives it velocity $v$, so that:\n",
    "$$u(x,0)=0$$\n",
    "$$\\frac{\\partial u}{\\partial t}(x,0)=vL\\delta(x_0)$$\n",
    "By considering the Fourier series of the delta function, we have that:\n",
    "$$u(x,t)=\\sum_{n=1}^\\infty\\frac{2v}{\\omega_n}\\sin\\left(\\frac{n\\pi}{L}x_0\\right)\\sin\\left(\\frac{n\\pi}{L}x\\right)\\sin(\\omega_nt)$$\n",
    "We'll add an exponential fading term, with characteristic time $\\tau$:\n",
    "$$u(x,t)=\\sum_{n=1}^\\infty\\frac{2v}{\\omega_n}\\sin\\left(\\frac{n\\pi}{L}x_0\\right)\\sin\\left(\\frac{n\\pi}{L}x\\right)\\sin(\\omega_nt)e^{-\\frac{nt}{\\tau}}$$"
   ]
  },
  {
   "cell_type": "code",
   "execution_count": 12,
   "metadata": {},
   "outputs": [],
   "source": [
    "def b_n(n, f_0, x_0, L = 1, B = 0.001, v = 1):\n",
    "    return 2 * v * np.sin(n * np.pi * x_0 / L) / omega_n(n, f_0, B = B)"
   ]
  },
  {
   "cell_type": "code",
   "execution_count": 13,
   "metadata": {},
   "outputs": [],
   "source": [
    "def anim(t, x_0, f_0 = 440, L = 1, B = 1e-3, tau = 1, N = 100, dx = 1e-3, dt = 1e-3):\n",
    "    x_arr = np.arange(0, L, dx)\n",
    "    t_arr = np.arange(0, t, dt)\n",
    "    X, T = np.meshgrid(x_arr, t_arr)\n",
    "    rv = np.zeros_like(X)\n",
    "    for n in tqdm(range(1, N + 1)):\n",
    "        omega = omega_n(n, f_0, B = B)\n",
    "        b = b_n(n, f_0, x_0, L = L, B = B)\n",
    "        rv += b * np.sin(omega * T) * np.exp(-n * T / tau) * np.sin(n * np.pi / L * X)\n",
    "    return rv"
   ]
  },
  {
   "cell_type": "code",
   "execution_count": 14,
   "metadata": {},
   "outputs": [],
   "source": [
    "def sound(t, x_0, f_0 = 440, L = 1, B = 1e-3, tau = 1, N = 100, dt = 1 / SAMPLERATE):\n",
    "    t_arr = np.arange(0, t, dt)\n",
    "    rv = np.zeros_like(t_arr)\n",
    "    for n in tqdm(range(1, N + 1)):\n",
    "        omega = omega_n(n, f_0, B = B)\n",
    "        b = b_n(n, f_0, x_0, L = L, B = B)\n",
    "        rv += b * np.sin(omega * t_arr) * np.exp(-n * t_arr / tau)\n",
    "    return rv"
   ]
  },
  {
   "cell_type": "code",
   "execution_count": 23,
   "metadata": {},
   "outputs": [
    {
     "name": "stderr",
     "output_type": "stream",
     "text": [
      "100%|██████████| 100/100 [00:01<00:00, 67.33it/s]\n"
     ]
    }
   ],
   "source": [
    "data = sound(5, 0.1, B = 1e-3)\n",
    "export(data, \"test\")\n",
    "# plt.plot(data)"
   ]
  },
  {
   "cell_type": "code",
   "execution_count": null,
   "metadata": {},
   "outputs": [],
   "source": []
  },
  {
   "attachments": {},
   "cell_type": "markdown",
   "metadata": {},
   "source": [
    "## References\n",
    "[[1603.05516] The wave equation for stiff strings and piano tuning](https://arxiv.org/abs/1603.05516)\n",
    "\n",
    "[Making Music with Math: A Guide to Synthesizing Sounds with the Wave Equation](https://aatishb.com/stringmath/)"
   ]
  }
 ],
 "metadata": {
  "kernelspec": {
   "display_name": "gpu",
   "language": "python",
   "name": "python3"
  },
  "language_info": {
   "codemirror_mode": {
    "name": "ipython",
    "version": 3
   },
   "file_extension": ".py",
   "mimetype": "text/x-python",
   "name": "python",
   "nbconvert_exporter": "python",
   "pygments_lexer": "ipython3",
   "version": "3.11.2"
  },
  "orig_nbformat": 4
 },
 "nbformat": 4,
 "nbformat_minor": 2
}
